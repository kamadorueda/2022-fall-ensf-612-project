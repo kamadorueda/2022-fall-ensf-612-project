{
 "cells": [
  {
   "cell_type": "markdown",
   "metadata": {},
   "source": [
    "# Hi!\n",
    "\n",
    "This notebook was created using a local Apache Spark cluster.\n",
    "\n",
    "If you are curious on what the deployment looks like,\n",
    "see [this](https://github.com/kamadorueda/machine/blob/main/nixos-modules/spark/default.nix).\n",
    "\n",
    "The cell below is the only thing that needs to be changed if you want to run it,\n",
    "either on DataBricks or TALC.\n",
    "\n",
    "Thank you!\n"
   ]
  },
  {
   "cell_type": "code",
   "execution_count": 12,
   "metadata": {},
   "outputs": [],
   "source": [
    "import pyspark\n",
    "\n",
    "# Step 1: Please change `sc` and `spark`\n",
    "# so that they point to your spark cluster (TALC, DataBricks, etc)\n",
    "\n",
    "conf = pyspark.SparkConf().setMaster(\"local[4]\")\n",
    "sc = pyspark.SparkContext.getOrCreate(conf)\n",
    "spark = pyspark.sql.SparkSession.builder.config(conf=conf).getOrCreate()\n",
    "\n",
    "# Step 2: Please set the path to the files\n",
    "ISSUES_DIR = \"../step-1-structured-data/issues\"\n",
    "LABELS = \"../step-2-labeling/labels-filled.csv\""
   ]
  },
  {
   "cell_type": "code",
   "execution_count": 13,
   "metadata": {},
   "outputs": [
    {
     "data": {
      "text/plain": [
       "{'issue-number': '18544', 'was-fixed': 'yes'}"
      ]
     },
     "execution_count": 13,
     "metadata": {},
     "output_type": "execute_result"
    }
   ],
   "source": [
    "import csv\n",
    "\n",
    "with open(LABELS) as file:\n",
    "    labels = tuple(csv.DictReader(file))\n",
    "\n",
    "labels[0]"
   ]
  },
  {
   "cell_type": "code",
   "execution_count": 15,
   "metadata": {},
   "outputs": [
    {
     "name": "stdout",
     "output_type": "stream",
     "text": [
      "+--------------------+------------+--------------------+---------+\n",
      "|                body|issue_number|               title|was_fixed|\n",
      "+--------------------+------------+--------------------+---------+\n",
      "|### Prerequisites...|       18544|PowerShell 7.3.0 ...|     true|\n",
      "|### Prerequisites...|       18540|Handling of QUOTA...|     true|\n",
      "|### Prerequisites...|       18501|Problem with PSNa...|    false|\n",
      "|### Summary of th...|       18500|Questions.. and o...|     true|\n",
      "|### Summary of th...|       18497|Define env vars i...|     true|\n",
      "|### Prerequisites...|       18490|Write-Error prefi...|    false|\n",
      "|### Prerequisites...|       18489|SemanticVersion d...|     true|\n",
      "|### Prerequisites...|       18485|ErrorResponseExce...|     true|\n",
      "|### Prerequisites...|       18478|Please remove ref...|     true|\n",
      "|### Prerequisites...|       18476|Class not registe...|     true|\n",
      "|### Prerequisites...|       18463|`Get-Help -Parame...|     true|\n",
      "|### Summary of th...|       18460| `Invoke-PowerShell`|     true|\n",
      "|### Prerequisites...|       18459|Send-MailMessage ...|    false|\n",
      "|### Prerequisites...|       18436|Switch-Process: b...|     true|\n",
      "|### Prerequisites...|       18433|Switch-Process, w...|     true|\n",
      "|### Prerequisites...|       18432|Switch-Process (e...|     true|\n",
      "|### Prerequisites...|       18431|Disable-WindowsOp...|     true|\n",
      "|### Prerequisites...|       18424|System.Private.UR...|     true|\n",
      "|### Prerequisites...|       18423|WindowStyle Hidde...|     true|\n",
      "|### Checklist\\n\\n...|       18422|Release Process f...|     true|\n",
      "+--------------------+------------+--------------------+---------+\n",
      "only showing top 20 rows\n",
      "\n"
     ]
    },
    {
     "name": "stderr",
     "output_type": "stream",
     "text": [
      "                                                                                \r"
     ]
    }
   ],
   "source": [
    "# issue_numbers\n",
    "\n",
    "import json\n",
    "import os.path\n",
    "\n",
    "data = []\n",
    "\n",
    "for label in labels:\n",
    "    issue_number = label[\"issue-number\"]\n",
    "    assert label[\"was-fixed\"] in (\"yes\", \"no\")\n",
    "\n",
    "    with open(os.path.join(ISSUES_DIR, f\"{issue_number}.json\")) as file:\n",
    "        issue = json.load(file)\n",
    "\n",
    "    data.append(\n",
    "        {\n",
    "            \"issue_number\": issue_number,\n",
    "            \"title\": issue[\"title\"],\n",
    "            \"body\": issue[\"body\"],\n",
    "            \"was_fixed\": label[\"was-fixed\"] == \"yes\",\n",
    "        }\n",
    "    )\n",
    "\n",
    "\n",
    "data = spark.createDataFrame(data)\n",
    "\n",
    "data.show()\n"
   ]
  },
  {
   "cell_type": "code",
   "execution_count": null,
   "metadata": {},
   "outputs": [],
   "source": []
  }
 ],
 "metadata": {
  "kernelspec": {
   "display_name": "Python 3.10.8 64-bit",
   "language": "python",
   "name": "python3"
  },
  "language_info": {
   "codemirror_mode": {
    "name": "ipython",
    "version": 3
   },
   "file_extension": ".py",
   "mimetype": "text/x-python",
   "name": "python",
   "nbconvert_exporter": "python",
   "pygments_lexer": "ipython3",
   "version": "3.10.8"
  },
  "orig_nbformat": 4,
  "vscode": {
   "interpreter": {
    "hash": "b5f600bb0a23048005804b0ea244c436da6b0532e9328a8119f62e33d9ec479f"
   }
  }
 },
 "nbformat": 4,
 "nbformat_minor": 2
}
